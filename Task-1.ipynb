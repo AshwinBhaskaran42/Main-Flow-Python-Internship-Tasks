{
 "cells": [
  {
   "cell_type": "code",
   "execution_count": 5,
   "id": "725370f6-76e6-4249-8d7c-7871d78e5b03",
   "metadata": {},
   "outputs": [
    {
     "name": "stdin",
     "output_type": "stream",
     "text": [
      "Enter first number:  10\n",
      "Enter second number:  20\n"
     ]
    },
    {
     "name": "stdout",
     "output_type": "stream",
     "text": [
      "a=10, b=20\n",
      "Sum: 30\n"
     ]
    }
   ],
   "source": [
    "# Program to calculate the sum of two numbers\n",
    "a = int(input(\"Enter first number: \"))\n",
    "b = int(input(\"Enter second number: \"))\n",
    "sum_ = a + b\n",
    "print(f\"a={a}, b={b}\")\n",
    "print(\"Sum:\", sum_)\n"
   ]
  },
  {
   "cell_type": "code",
   "execution_count": 6,
   "id": "780443bd-10d4-48e9-aa07-06ada617ff89",
   "metadata": {},
   "outputs": [
    {
     "name": "stdin",
     "output_type": "stream",
     "text": [
      "Enter a number:  10\n"
     ]
    },
    {
     "name": "stdout",
     "output_type": "stream",
     "text": [
      "Entered Number:  10\n",
      "Even\n"
     ]
    }
   ],
   "source": [
    "# Program to check if a number is odd or even\n",
    "num = int(input(\"Enter a number: \"))\n",
    "print(\"Entered Number: \",num)\n",
    "if num % 2 == 0:\n",
    "    print(\"Even\")\n",
    "else:\n",
    "    print(\"Odd\")\n"
   ]
  },
  {
   "cell_type": "code",
   "execution_count": 7,
   "id": "fea2101a-5d9a-4966-86c7-9fd908cc4e9d",
   "metadata": {},
   "outputs": [
    {
     "name": "stdin",
     "output_type": "stream",
     "text": [
      "Enter a number:  5\n"
     ]
    },
    {
     "name": "stdout",
     "output_type": "stream",
     "text": [
      "Entered Number:  5\n",
      "Factorial: 120\n"
     ]
    }
   ],
   "source": [
    "# Program to calculate factorial using loop\n",
    "n = int(input(\"Enter a number: \"))\n",
    "print(\"Entered Number: \",n)\n",
    "factorial = 1\n",
    "for i in range(1, n + 1):\n",
    "    factorial *= i\n",
    "print(\"Factorial:\", factorial)\n"
   ]
  },
  {
   "cell_type": "code",
   "execution_count": 8,
   "id": "4e39052f-bbb1-4bd3-af1b-189f8e534883",
   "metadata": {},
   "outputs": [
    {
     "name": "stdin",
     "output_type": "stream",
     "text": [
      "Enter number of terms:  10\n"
     ]
    },
    {
     "name": "stdout",
     "output_type": "stream",
     "text": [
      "Entered Number:  10\n",
      "Fibonacci sequence: [0, 1, 1, 2, 3, 5, 8, 13, 21, 34]\n"
     ]
    }
   ],
   "source": [
    "# Program to print Fibonacci sequence\n",
    "n = int(input(\"Enter number of terms: \"))\n",
    "print(\"Entered Number: \",n)\n",
    "fib = [0, 1]\n",
    "for i in range(2, n):\n",
    "    fib.append(fib[-1] + fib[-2])\n",
    "print(\"Fibonacci sequence:\", fib[:n])\n"
   ]
  },
  {
   "cell_type": "code",
   "execution_count": 9,
   "id": "51371550-5e4f-4c26-bd09-a33e441a25a3",
   "metadata": {},
   "outputs": [
    {
     "name": "stdin",
     "output_type": "stream",
     "text": [
      "Enter a string:  hello world\n"
     ]
    },
    {
     "name": "stdout",
     "output_type": "stream",
     "text": [
      "Entered text:  hello world\n",
      "Reversed string: dlrow olleh\n"
     ]
    }
   ],
   "source": [
    "# Program to reverse a string\n",
    "text = input(\"Enter a string: \")\n",
    "print(\"Entered text: \",text)\n",
    "reversed_text = text[::-1]\n",
    "print(\"Reversed string:\", reversed_text)\n"
   ]
  },
  {
   "cell_type": "code",
   "execution_count": 10,
   "id": "59ef77f8-8268-40c5-9015-e523df59a451",
   "metadata": {},
   "outputs": [
    {
     "name": "stdin",
     "output_type": "stream",
     "text": [
      "Enter a string:  noon\n"
     ]
    },
    {
     "name": "stdout",
     "output_type": "stream",
     "text": [
      "Entered text:  noon\n",
      "Palindrome: True\n"
     ]
    }
   ],
   "source": [
    "# Program to check if a string is a palindrome\n",
    "text = input(\"Enter a string: \")\n",
    "print(\"Entered text: \",text)\n",
    "is_palindrome = text == text[::-1]\n",
    "print(\"Palindrome:\", is_palindrome)\n"
   ]
  },
  {
   "cell_type": "code",
   "execution_count": 11,
   "id": "65005dc7-f8ee-4ec7-89ca-58b34a52dd0e",
   "metadata": {},
   "outputs": [
    {
     "name": "stdin",
     "output_type": "stream",
     "text": [
      "Enter a year:  2024\n"
     ]
    },
    {
     "name": "stdout",
     "output_type": "stream",
     "text": [
      "Entered year:  2024\n",
      "Leap Year\n"
     ]
    }
   ],
   "source": [
    "# Program to check leap year\n",
    "year = int(input(\"Enter a year: \"))\n",
    "print(\"Entered year: \",year)\n",
    "if (year % 4 == 0 and year % 100 != 0) or (year % 400 == 0):\n",
    "    print(\"Leap Year\")\n",
    "else:\n",
    "    print(\"Not a Leap Year\")\n"
   ]
  },
  {
   "cell_type": "code",
   "execution_count": 12,
   "id": "293fa7aa-e42a-4a1f-b220-93e75687fe77",
   "metadata": {},
   "outputs": [
    {
     "name": "stdin",
     "output_type": "stream",
     "text": [
      "Enter a number:  153\n"
     ]
    },
    {
     "name": "stdout",
     "output_type": "stream",
     "text": [
      "Entered number:  153\n",
      "Armstrong Number\n"
     ]
    }
   ],
   "source": [
    "# Armstrong Number Checker\n",
    "\n",
    "num = int(input(\"Enter a number: \"))\n",
    "print(\"Entered number: \",num)\n",
    "num_str = str(num)\n",
    "num_digits = len(num_str)\n",
    "\n",
    "armstrong_total = sum(int(digit) ** num_digits for digit in num_str)\n",
    "\n",
    "if num == armstrong_total:\n",
    "    print(\"Armstrong Number\")\n",
    "else:\n",
    "    print(\"Not an Armstrong Number\")\n"
   ]
  },
  {
   "cell_type": "code",
   "execution_count": 3,
   "id": "0d0e5337-953e-4ebe-af16-5a8607a24206",
   "metadata": {},
   "outputs": [
    {
     "name": "stdout",
     "output_type": "stream",
     "text": [
      "Original: This is a python program\n",
      "Encrypted: Wklv lv d sbwkrq surjudp\n",
      "Decrypted: This is a python program\n"
     ]
    }
   ],
   "source": [
    "#Custom Encryption-Decryption System\n",
    "\n",
    "# Custom Encryption-Decryption System\n",
    "def encrypt(text, shift):\n",
    "    encrypted_text = \"\"\n",
    "    for char in text:\n",
    "        if char.isalpha():\n",
    "            shift_base = 65 if char.isupper() else 97\n",
    "            encrypted_text += chr((ord(char) - shift_base + shift) % 26 + shift_base)\n",
    "        else:\n",
    "            encrypted_text += char\n",
    "    return encrypted_text\n",
    "\n",
    "def decrypt(encrypted_text, shift):\n",
    "    return encrypt(encrypted_text, -shift)\n",
    "    \n",
    "message = \"This is a python program\"\n",
    "shift_key = 3\n",
    "\n",
    "encrypted_message = encrypt(message, shift_key)\n",
    "decrypted_message = decrypt(encrypted_message, shift_key)\n",
    "\n",
    "print(f\"Original: {message}\")\n",
    "print(f\"Encrypted: {encrypted_message}\")\n",
    "print(f\"Decrypted: {decrypted_message}\")\n"
   ]
  }
 ],
 "metadata": {
  "kernelspec": {
   "display_name": "Python 3 (ipykernel)",
   "language": "python",
   "name": "python3"
  },
  "language_info": {
   "codemirror_mode": {
    "name": "ipython",
    "version": 3
   },
   "file_extension": ".py",
   "mimetype": "text/x-python",
   "name": "python",
   "nbconvert_exporter": "python",
   "pygments_lexer": "ipython3",
   "version": "3.11.5"
  }
 },
 "nbformat": 4,
 "nbformat_minor": 5
}
